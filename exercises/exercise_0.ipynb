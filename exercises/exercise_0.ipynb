{
 "cells": [
  {
   "cell_type": "markdown",
   "id": "c736bb49",
   "metadata": {},
   "source": []
  },
  {
   "cell_type": "markdown",
   "id": "29886403",
   "metadata": {},
   "source": [
    "## Exercise 0 - pandas repetition\n",
    "    -a Do some EDA with info, find out column names, shape of dataset, describe method to get summary descriptive statistics.\n",
    "    -b Draw a line chart of quantity for each year. Is there a year that should be skipped?\n",
    "    -c Draw a line chart of average CO2 emissions for same years that as in b)\n",
    "    -d Draw a line chart of all years and months for import\n",
    "    -e Draw a line chart of all years and months for average CO2 emissions\n",
    "    -f Draw a line chart of all years and months for electric cars import where it's relevant.\n",
    "    -g Draw a line chart of average diesel share per year\n",
    "    -h Discuss some findings with a friend based on this dataset, and do plot more graphs"
   ]
  },
  {
   "cell_type": "code",
   "execution_count": 1,
   "id": "a2bb5dd1",
   "metadata": {},
   "outputs": [],
   "source": [
    "import pandas as pd\n"
   ]
  },
  {
   "cell_type": "code",
   "execution_count": 38,
   "id": "ab63efe5",
   "metadata": {},
   "outputs": [
    {
     "data": {
      "text/html": [
       "<div>\n",
       "<style scoped>\n",
       "    .dataframe tbody tr th:only-of-type {\n",
       "        vertical-align: middle;\n",
       "    }\n",
       "\n",
       "    .dataframe tbody tr th {\n",
       "        vertical-align: top;\n",
       "    }\n",
       "\n",
       "    .dataframe thead th {\n",
       "        text-align: right;\n",
       "    }\n",
       "</style>\n",
       "<table border=\"1\" class=\"dataframe\">\n",
       "  <thead>\n",
       "    <tr style=\"text-align: right;\">\n",
       "      <th></th>\n",
       "      <th>Year</th>\n",
       "      <th>Month</th>\n",
       "      <th>Quantity</th>\n",
       "      <th>Quantity_YoY</th>\n",
       "      <th>Import</th>\n",
       "      <th>Import_YoY</th>\n",
       "      <th>Used</th>\n",
       "      <th>Used_YoY</th>\n",
       "      <th>Avg_CO2</th>\n",
       "      <th>Bensin_Co2</th>\n",
       "      <th>Diesel_Co2</th>\n",
       "      <th>Quantity_Diesel</th>\n",
       "      <th>Diesel_Share</th>\n",
       "      <th>Diesel_Share_LY</th>\n",
       "      <th>Quantity_Hybrid</th>\n",
       "      <th>Quantity_Electric</th>\n",
       "      <th>Import_Electric</th>\n",
       "    </tr>\n",
       "  </thead>\n",
       "  <tbody>\n",
       "    <tr>\n",
       "      <th>0</th>\n",
       "      <td>2007-01-01</td>\n",
       "      <td>1</td>\n",
       "      <td>12685</td>\n",
       "      <td>5227</td>\n",
       "      <td>2276</td>\n",
       "      <td>257</td>\n",
       "      <td>NaN</td>\n",
       "      <td>NaN</td>\n",
       "      <td>152</td>\n",
       "      <td>155</td>\n",
       "      <td>152</td>\n",
       "      <td>10072</td>\n",
       "      <td>79.4</td>\n",
       "      <td>52.5</td>\n",
       "      <td>NaN</td>\n",
       "      <td>NaN</td>\n",
       "      <td>NaN</td>\n",
       "    </tr>\n",
       "    <tr>\n",
       "      <th>1</th>\n",
       "      <td>2007-01-01</td>\n",
       "      <td>2</td>\n",
       "      <td>9793</td>\n",
       "      <td>2448</td>\n",
       "      <td>1992</td>\n",
       "      <td>-89</td>\n",
       "      <td>NaN</td>\n",
       "      <td>NaN</td>\n",
       "      <td>156</td>\n",
       "      <td>159</td>\n",
       "      <td>155</td>\n",
       "      <td>7222</td>\n",
       "      <td>73.7</td>\n",
       "      <td>47.4</td>\n",
       "      <td>NaN</td>\n",
       "      <td>NaN</td>\n",
       "      <td>NaN</td>\n",
       "    </tr>\n",
       "    <tr>\n",
       "      <th>2</th>\n",
       "      <td>2007-01-01</td>\n",
       "      <td>3</td>\n",
       "      <td>11264</td>\n",
       "      <td>1445</td>\n",
       "      <td>2626</td>\n",
       "      <td>45</td>\n",
       "      <td>NaN</td>\n",
       "      <td>NaN</td>\n",
       "      <td>159</td>\n",
       "      <td>161</td>\n",
       "      <td>158</td>\n",
       "      <td>7965</td>\n",
       "      <td>70.7</td>\n",
       "      <td>48.1</td>\n",
       "      <td>NaN</td>\n",
       "      <td>NaN</td>\n",
       "      <td>NaN</td>\n",
       "    </tr>\n",
       "    <tr>\n",
       "      <th>3</th>\n",
       "      <td>2007-01-01</td>\n",
       "      <td>4</td>\n",
       "      <td>8854</td>\n",
       "      <td>504</td>\n",
       "      <td>2220</td>\n",
       "      <td>-130</td>\n",
       "      <td>NaN</td>\n",
       "      <td>NaN</td>\n",
       "      <td>160</td>\n",
       "      <td>165</td>\n",
       "      <td>158</td>\n",
       "      <td>6116</td>\n",
       "      <td>69.1</td>\n",
       "      <td>48.4</td>\n",
       "      <td>NaN</td>\n",
       "      <td>NaN</td>\n",
       "      <td>NaN</td>\n",
       "    </tr>\n",
       "    <tr>\n",
       "      <th>4</th>\n",
       "      <td>2007-01-01</td>\n",
       "      <td>5</td>\n",
       "      <td>12007</td>\n",
       "      <td>1592</td>\n",
       "      <td>2881</td>\n",
       "      <td>7</td>\n",
       "      <td>NaN</td>\n",
       "      <td>NaN</td>\n",
       "      <td>160</td>\n",
       "      <td>163</td>\n",
       "      <td>159</td>\n",
       "      <td>8519</td>\n",
       "      <td>71.0</td>\n",
       "      <td>49.1</td>\n",
       "      <td>NaN</td>\n",
       "      <td>NaN</td>\n",
       "      <td>NaN</td>\n",
       "    </tr>\n",
       "  </tbody>\n",
       "</table>\n",
       "</div>"
      ],
      "text/plain": [
       "        Year  Month  Quantity  Quantity_YoY  Import  Import_YoY  Used  \\\n",
       "0 2007-01-01      1     12685          5227    2276         257   NaN   \n",
       "1 2007-01-01      2      9793          2448    1992         -89   NaN   \n",
       "2 2007-01-01      3     11264          1445    2626          45   NaN   \n",
       "3 2007-01-01      4      8854           504    2220        -130   NaN   \n",
       "4 2007-01-01      5     12007          1592    2881           7   NaN   \n",
       "\n",
       "   Used_YoY  Avg_CO2  Bensin_Co2  Diesel_Co2  Quantity_Diesel  Diesel_Share  \\\n",
       "0       NaN      152         155         152            10072          79.4   \n",
       "1       NaN      156         159         155             7222          73.7   \n",
       "2       NaN      159         161         158             7965          70.7   \n",
       "3       NaN      160         165         158             6116          69.1   \n",
       "4       NaN      160         163         159             8519          71.0   \n",
       "\n",
       "   Diesel_Share_LY  Quantity_Hybrid  Quantity_Electric  Import_Electric  \n",
       "0             52.5              NaN                NaN              NaN  \n",
       "1             47.4              NaN                NaN              NaN  \n",
       "2             48.1              NaN                NaN              NaN  \n",
       "3             48.4              NaN                NaN              NaN  \n",
       "4             49.1              NaN                NaN              NaN  "
      ]
     },
     "execution_count": 38,
     "metadata": {},
     "output_type": "execute_result"
    }
   ],
   "source": [
    "df = pd.read_csv(\"../data/norway_new_car_sales_by_month.csv\", index_col=0, parse_dates=True).reset_index()\n",
    "\n",
    "df.head()"
   ]
  },
  {
   "cell_type": "code",
   "execution_count": 45,
   "id": "4564a07a",
   "metadata": {},
   "outputs": [
    {
     "data": {
      "text/plain": [
       "Year\n",
       "2007-01-01    12\n",
       "2008-01-01    12\n",
       "2009-01-01    12\n",
       "2010-01-01    12\n",
       "2011-01-01    12\n",
       "2012-01-01    12\n",
       "2013-01-01    12\n",
       "2014-01-01    12\n",
       "2015-01-01    12\n",
       "2016-01-01    12\n",
       "2017-01-01     1\n",
       "Name: Month, dtype: int64"
      ]
     },
     "execution_count": 45,
     "metadata": {},
     "output_type": "execute_result"
    }
   ],
   "source": [
    "df.groupby(\"Year\")[\"Month\"].nunique()\n"
   ]
  },
  {
   "cell_type": "code",
   "execution_count": 54,
   "id": "3c262915",
   "metadata": {},
   "outputs": [
    {
     "data": {
      "text/plain": [
       "Year\n",
       "2007-01-01    129195\n",
       "2008-01-01    110617\n",
       "2009-01-01     98675\n",
       "2010-01-01    127754\n",
       "2011-01-01    138345\n",
       "2012-01-01    137967\n",
       "2013-01-01    142151\n",
       "2014-01-01    144202\n",
       "2015-01-01    150686\n",
       "2016-01-01    154603\n",
       "Name: Quantity, dtype: int64"
      ]
     },
     "execution_count": 54,
     "metadata": {},
     "output_type": "execute_result"
    }
   ],
   "source": [
    "df_valid_years = df.query(\"Year !=2017\")\n",
    "\n",
    "df_valid_years.groupby(\"Year\")[\"Quantity\"].sum()"
   ]
  },
  {
   "cell_type": "code",
   "execution_count": 56,
   "id": "05e4ae5c",
   "metadata": {},
   "outputs": [
    {
     "data": {
      "text/plain": [
       "<Axes: title={'center': 'Total quantity of cars sold per year'}, xlabel='Year', ylabel='Quantity'>"
      ]
     },
     "execution_count": 56,
     "metadata": {},
     "output_type": "execute_result"
    },
    {
     "data": {
      "image/png": "[encoded data removed]",
      "text/plain": [
       "<Figure size 640x480 with 1 Axes>"
      ]
     },
     "metadata": {},
     "output_type": "display_data"
    }
   ],
   "source": [
    "df_valid_years.groupby(\"Year\")[\"Quantity\"].sum().plot(\n",
    "    kind=\"line\",\n",
    "    title=\"Total quantity of cars sold per year\",\n",
    "    xlabel=\"Year\",\n",
    "    ylabel=\"Quantity\",\n",
    ")"
   ]
  }
 ],
 "metadata": {
  "kernelspec": {
   "display_name": "ai_engineering_casper_zanichelli",
   "language": "python",
   "name": "python3"
  },
  "language_info": {
   "codemirror_mode": {
    "name": "ipython",
    "version": 3
   },
   "file_extension": ".py",
   "mimetype": "text/x-python",
   "name": "python",
   "nbconvert_exporter": "python",
   "pygments_lexer": "ipython3",
   "version": "3.12.2"
  }
 },
 "nbformat": 4,
 "nbformat_minor": 5
}
